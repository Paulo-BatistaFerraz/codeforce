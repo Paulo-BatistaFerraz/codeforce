{
 "cells": [
  {
   "cell_type": "code",
   "execution_count": 1,
   "metadata": {},
   "outputs": [
    {
     "name": "stdout",
     "output_type": "stream",
     "text": [
      "You passed 4 arguments.\n",
      "Argument 1: 1\n",
      "Argument 2: 2\n",
      "Argument 3: 3\n",
      "Argument 4: 4\n"
     ]
    }
   ],
   "source": [
    "def my_function(*args):\n",
    "    # args is a tuple containing all inputs\n",
    "    print(f\"You passed {len(args)} arguments.\")\n",
    "    for i, value in enumerate(args, start=1):\n",
    "        print(f\"Argument {i}: {value}\")\n",
    "\n",
    "# Example call\n",
    "my_function(1, 2, 3, 4)\n"
   ]
  },
  {
   "cell_type": "code",
   "execution_count": 2,
   "metadata": {},
   "outputs": [
    {
     "name": "stdout",
     "output_type": "stream",
     "text": [
      "Index 1: a\n",
      "Index 2: b\n",
      "Index 3: c\n"
     ]
    }
   ],
   "source": [
    "for i, j in enumerate(['a', 'b', 'c'], start=1):\n",
    "    print(f\"Index {i}: {j}\")\n",
    "    \n",
    "# enumerate is used to get both the index and the value from the list"
   ]
  },
  {
   "cell_type": "code",
   "execution_count": 44,
   "metadata": {},
   "outputs": [
    {
     "name": "stdout",
     "output_type": "stream",
     "text": [
      "Index 1: a\n",
      "Index 2: b\n",
      "Index 3: c\n"
     ]
    }
   ],
   "source": [
    "data = ['a', 'b', 'c']\n",
    "enumerated_data = enumerate(data, start=1)  # Create an enumerate object\n",
    "\n",
    "for i, value in enumerated_data:\n",
    "    print(f\"Index {i}: {value}\")\n",
    "\n",
    "\n"
   ]
  },
  {
   "cell_type": "code",
   "execution_count": 4,
   "metadata": {},
   "outputs": [
    {
     "name": "stdout",
     "output_type": "stream",
     "text": [
      "Element at index 0: 1\n",
      "Element at index 1: 2\n",
      "Element at index 2: 3\n",
      "Element at index 3: 4\n"
     ]
    },
    {
     "data": {
      "text/plain": [
       "<enumerate at 0x17b88f82b10>"
      ]
     },
     "execution_count": 4,
     "metadata": {},
     "output_type": "execute_result"
    }
   ],
   "source": [
    "list = [1, 2, 3, 4]\n",
    "\n",
    "for i in range(len(list)):\n",
    "    print(f\"Element at index {i}: {list[i]}\")# f' is used to format strings with variables'\n",
    "    \n",
    "    \n",
    "\n"
   ]
  },
  {
   "cell_type": "code",
   "execution_count": 25,
   "metadata": {},
   "outputs": [
    {
     "name": "stdout",
     "output_type": "stream",
     "text": [
      "Index 1: a\n",
      "Index 2: b\n",
      "Index 3: c\n"
     ]
    }
   ],
   "source": [
    "# for i, j in enumerate(['a', 'b', 'c'], start=1):\n",
    "#     print(f\"Index {i}: {j}\")\n",
    "\n",
    "\n",
    "items = ['a', 'b', 'c']\n",
    "index = range(1, len(items) + 1)\n",
    "\n",
    "for i in index:\n",
    "    for j in items:\n",
    "        if items.index(j) + 1 == i:  # Match index to the item\n",
    "            print(f\"Index {i}: {j}\")\n"
   ]
  },
  {
   "cell_type": "code",
   "execution_count": 26,
   "metadata": {},
   "outputs": [
    {
     "name": "stdout",
     "output_type": "stream",
     "text": [
      "Index 1: a\n",
      "Index 2: b\n",
      "Index 3: c\n"
     ]
    }
   ],
   "source": [
    "items = ['a', 'b', 'c']\n",
    "\n",
    "for i in range(1,len(items) + 1):\n",
    "    print(f\"Index {i}: {items[i - 1]}\")"
   ]
  },
  {
   "cell_type": "code",
   "execution_count": 27,
   "metadata": {},
   "outputs": [
    {
     "name": "stdout",
     "output_type": "stream",
     "text": [
      "Index 1: a\n",
      "Index 2: b\n",
      "Index 3: c\n"
     ]
    }
   ],
   "source": [
    "index = range(1, len(items) + 1)\n",
    "items = ['a', 'b', 'c']\n",
    "\n",
    "for i in index:\n",
    "    for j in items:\n",
    "        if items.index(j) + 1 == i:\n",
    "            print(f\"Index {i}: {j}\")"
   ]
  },
  {
   "cell_type": "markdown",
   "metadata": {},
   "source": [
    "## function with N argumets"
   ]
  },
  {
   "cell_type": "code",
   "execution_count": 52,
   "metadata": {},
   "outputs": [
    {
     "name": "stdout",
     "output_type": "stream",
     "text": [
      "Processing 100\n",
      "Skipping 2000 as it is too large\n",
      "Processing 300\n",
      "Skipping 4000 as it is too large\n",
      "Processing 500\n"
     ]
    }
   ],
   "source": [
    "# def my_function(*args):\n",
    "#     print(f\"Passing {len(args)} arguments.\")\n",
    "    \n",
    "# # Python program showing \n",
    "# # a use of input()\n",
    "\n",
    "# val = input(\"Enter your value: \")\n",
    "# print(val)\n",
    "\n",
    "\n",
    "def my_function(*args):\n",
    "    # argument handling\n",
    "    \n",
    "    for arg in args:\n",
    "        #if args is less then 1000, take the input\n",
    "        if arg < 1000:\n",
    "            print(f\"Processing {arg}\")\n",
    "        else:\n",
    "            print(f\"Skipping {arg} as it is too large\")\n",
    "            \n",
    "\n",
    "my_function(100, 2000, 300, 4000, 500)\n",
    "    "
   ]
  },
  {
   "cell_type": "code",
   "execution_count": null,
   "metadata": {},
   "outputs": [
    {
     "ename": "TypeError",
     "evalue": "'int' object is not subscriptable",
     "output_type": "error",
     "traceback": [
      "\u001b[1;31m---------------------------------------------------------------------------\u001b[0m",
      "\u001b[1;31mTypeError\u001b[0m                                 Traceback (most recent call last)",
      "Cell \u001b[1;32mIn[60], line 16\u001b[0m\n\u001b[0;32m     11\u001b[0m         \u001b[38;5;28;01melse\u001b[39;00m:\n\u001b[0;32m     12\u001b[0m             \u001b[38;5;28;01mpass\u001b[39;00m\n\u001b[1;32m---> 16\u001b[0m \u001b[43mmy_function\u001b[49m\u001b[43m(\u001b[49m\u001b[38;5;241;43m100\u001b[39;49m\u001b[43m,\u001b[49m\u001b[43m \u001b[49m\u001b[38;5;241;43m2000\u001b[39;49m\u001b[43m,\u001b[49m\u001b[43m \u001b[49m\u001b[38;5;241;43m300\u001b[39;49m\u001b[43m,\u001b[49m\u001b[43m \u001b[49m\u001b[38;5;241;43m4000\u001b[39;49m\u001b[43m,\u001b[49m\u001b[43m \u001b[49m\u001b[38;5;241;43m500\u001b[39;49m\u001b[43m)\u001b[49m\n",
      "Cell \u001b[1;32mIn[60], line 9\u001b[0m, in \u001b[0;36mmy_function\u001b[1;34m(*args)\u001b[0m\n\u001b[0;32m      7\u001b[0m count \u001b[38;5;241m=\u001b[39m \u001b[38;5;241m0\u001b[39m\n\u001b[0;32m      8\u001b[0m \u001b[38;5;28;01mfor\u001b[39;00m arg \u001b[38;5;129;01min\u001b[39;00m args:\n\u001b[1;32m----> 9\u001b[0m     \u001b[38;5;28;01mif\u001b[39;00m \u001b[43marg\u001b[49m\u001b[43m[\u001b[49m\u001b[38;5;241;43m0\u001b[39;49m\u001b[43m]\u001b[49m \u001b[38;5;241m==\u001b[39m \u001b[38;5;241m1\u001b[39m:\n\u001b[0;32m     10\u001b[0m         count \u001b[38;5;241m+\u001b[39m\u001b[38;5;241m=\u001b[39m \u001b[38;5;241m1\u001b[39m\n\u001b[0;32m     11\u001b[0m     \u001b[38;5;28;01melse\u001b[39;00m:\n",
      "\u001b[1;31mTypeError\u001b[0m: 'int' object is not subscriptable"
     ]
    }
   ],
   "source": [
    "def my_function(*args):\n",
    "    if args[0] > 1000:\n",
    "        return\n",
    "    else:\n",
    "        pass\n",
    "    \n",
    "    count = 0\n",
    "    for arg in args:\n",
    "        if arg[0] == 1:\n",
    "            count += 1\n",
    "        else:\n",
    "            pass\n",
    "            \n",
    "\n",
    "\n",
    "\n",
    "        \n",
    "            \n",
    "            "
   ]
  },
  {
   "cell_type": "code",
   "execution_count": 61,
   "metadata": {},
   "outputs": [
    {
     "name": "stdout",
     "output_type": "stream",
     "text": [
      "Count of numbers starting with 1: 4\n"
     ]
    }
   ],
   "source": [
    "def my_function(*args):\n",
    "    if args[0] > 1000:\n",
    "        return  # Exit early if the first argument is too large\n",
    "    \n",
    "    count = 0\n",
    "    for arg in args:\n",
    "        if str(arg)[0] == '1':  # Check if the first digit of the argument is '1'\n",
    "            count += 1\n",
    "        else:\n",
    "            pass  # This can be omitted, as it's not necessary to include an empty else statement\n",
    "    \n",
    "    print(f\"Count of numbers starting with 1: {count}\")\n",
    "\n",
    "# Example usage\n",
    "my_function(100, 1200, 150, 3000, 111)\n"
   ]
  },
  {
   "cell_type": "code",
   "execution_count": 64,
   "metadata": {},
   "outputs": [
    {
     "ename": "TypeError",
     "evalue": "'list' object is not callable",
     "output_type": "error",
     "traceback": [
      "\u001b[1;31m---------------------------------------------------------------------------\u001b[0m",
      "\u001b[1;31mTypeError\u001b[0m                                 Traceback (most recent call last)",
      "Cell \u001b[1;32mIn[64], line 11\u001b[0m\n\u001b[0;32m      9\u001b[0m \u001b[38;5;66;03m# Example usage:\u001b[39;00m\n\u001b[0;32m     10\u001b[0m n \u001b[38;5;241m=\u001b[39m \u001b[38;5;28mint\u001b[39m(\u001b[38;5;28minput\u001b[39m())  \u001b[38;5;66;03m# number of problems\u001b[39;00m\n\u001b[1;32m---> 11\u001b[0m problems \u001b[38;5;241m=\u001b[39m \u001b[43m[\u001b[49m\u001b[38;5;28;43mlist\u001b[39;49m\u001b[43m(\u001b[49m\u001b[38;5;28;43mmap\u001b[39;49m\u001b[43m(\u001b[49m\u001b[38;5;28;43mint\u001b[39;49m\u001b[43m,\u001b[49m\u001b[43m \u001b[49m\u001b[38;5;28;43minput\u001b[39;49m\u001b[43m(\u001b[49m\u001b[43m)\u001b[49m\u001b[38;5;241;43m.\u001b[39;49m\u001b[43msplit\u001b[49m\u001b[43m(\u001b[49m\u001b[43m)\u001b[49m\u001b[43m)\u001b[49m\u001b[43m)\u001b[49m\u001b[43m \u001b[49m\u001b[38;5;28;43;01mfor\u001b[39;49;00m\u001b[43m \u001b[49m\u001b[43m_\u001b[49m\u001b[43m \u001b[49m\u001b[38;5;129;43;01min\u001b[39;49;00m\u001b[43m \u001b[49m\u001b[38;5;28;43mrange\u001b[39;49m\u001b[43m(\u001b[49m\u001b[43mn\u001b[49m\u001b[43m)\u001b[49m\u001b[43m]\u001b[49m  \u001b[38;5;66;03m# list of problems\u001b[39;00m\n\u001b[0;32m     13\u001b[0m my_function(n, problems)\n",
      "Cell \u001b[1;32mIn[64], line 11\u001b[0m, in \u001b[0;36m<listcomp>\u001b[1;34m(.0)\u001b[0m\n\u001b[0;32m      9\u001b[0m \u001b[38;5;66;03m# Example usage:\u001b[39;00m\n\u001b[0;32m     10\u001b[0m n \u001b[38;5;241m=\u001b[39m \u001b[38;5;28mint\u001b[39m(\u001b[38;5;28minput\u001b[39m())  \u001b[38;5;66;03m# number of problems\u001b[39;00m\n\u001b[1;32m---> 11\u001b[0m problems \u001b[38;5;241m=\u001b[39m [\u001b[38;5;28;43mlist\u001b[39;49m\u001b[43m(\u001b[49m\u001b[38;5;28;43mmap\u001b[39;49m\u001b[43m(\u001b[49m\u001b[38;5;28;43mint\u001b[39;49m\u001b[43m,\u001b[49m\u001b[43m \u001b[49m\u001b[38;5;28;43minput\u001b[39;49m\u001b[43m(\u001b[49m\u001b[43m)\u001b[49m\u001b[38;5;241;43m.\u001b[39;49m\u001b[43msplit\u001b[49m\u001b[43m(\u001b[49m\u001b[43m)\u001b[49m\u001b[43m)\u001b[49m\u001b[43m)\u001b[49m \u001b[38;5;28;01mfor\u001b[39;00m _ \u001b[38;5;129;01min\u001b[39;00m \u001b[38;5;28mrange\u001b[39m(n)]  \u001b[38;5;66;03m# list of problems\u001b[39;00m\n\u001b[0;32m     13\u001b[0m my_function(n, problems)\n",
      "\u001b[1;31mTypeError\u001b[0m: 'list' object is not callable"
     ]
    }
   ],
   "source": [
    "def my_function(n, problems):\n",
    "    count = 0\n",
    "    for problem in problems:\n",
    "        # Sum the values in the problem to check how many friends are sure\n",
    "        if sum(problem) >= 2:\n",
    "            count += 1\n",
    "    print(count)\n",
    "\n",
    "# Example usage:\n",
    "n = int(input())  # number of problems\n",
    "problems = [list(map(int, input().split())) for _ in range(n)]  # list of problems\n",
    "\n",
    "my_function(n, problems)\n"
   ]
  },
  {
   "cell_type": "code",
   "execution_count": 11,
   "metadata": {},
   "outputs": [
    {
     "name": "stdout",
     "output_type": "stream",
     "text": [
      "3\n"
     ]
    }
   ],
   "source": [
    "# Read the number of problems\n",
    "n = int(input())\n",
    "\n",
    "# Initialize a counter for the number of problems to solve\n",
    "count = 0\n",
    "\n",
    "# Process each problem\n",
    "for _ in range(n):\n",
    "    # Read the confidence levels of Petya, Vasya, and Tonya\n",
    "    a, b, c = map(int, input().split())\n",
    "    \n",
    "    # Check if at least two friends are sure about the solution\n",
    "    if a + b + c >= 2:\n",
    "        count += 1\n",
    "\n",
    "# Output the total count\n",
    "print(count)\n"
   ]
  },
  {
   "cell_type": "code",
   "execution_count": 12,
   "metadata": {},
   "outputs": [
    {
     "name": "stdout",
     "output_type": "stream",
     "text": [
      "3\n"
     ]
    }
   ],
   "source": [
    "n = int(input())\n",
    "count = 0\n",
    "\n",
    "for i in range(n):\n",
    "    a, b, c = map(int, input().split())\n",
    "    \n",
    "    if a + b + c >= 2:\n",
    "        count += 1\n",
    "\n",
    "\n",
    "print(count)\n",
    "\n",
    "\n",
    "# ---------------------------------------------------------------------------------------------------\n",
    "\n",
    "n = int(input())\n",
    "count = 0\n",
    "for i in range(n):\n",
    "    a = input().split()\n",
    "    \n",
    "            \n",
    "    "
   ]
  },
  {
   "cell_type": "code",
   "execution_count": 26,
   "metadata": {},
   "outputs": [
    {
     "name": "stdout",
     "output_type": "stream",
     "text": [
      "[1]\n"
     ]
    }
   ],
   "source": [
    "# Read input, split it into a list of strings, and convert each string to an integer\n",
    "a = list(map(int, input().split()))  # Takes multiple inputs as integers in a list\n",
    "print(a)\n",
    "\n",
    "b = input().split()  # Takes multiple inputs as strings in a list\n",
    "\n",
    "a,b,c = map(int, input().split())"
   ]
  },
  {
   "cell_type": "code",
   "execution_count": 30,
   "metadata": {},
   "outputs": [
    {
     "name": "stdout",
     "output_type": "stream",
     "text": [
      "[123]\n"
     ]
    }
   ],
   "source": [
    "a = map(int, input().split())  # `a` will be a map object\n",
    "\n",
    "#Converting the map object to a list\n",
    "a = list(a)# list convert the map object to a list\n",
    "print(a)"
   ]
  },
  {
   "cell_type": "code",
   "execution_count": null,
   "metadata": {},
   "outputs": [],
   "source": [
    "a,b,c = [int(x) for x in input().split()]  # Convert each string in the split input to an integer\n",
    "\n",
    "#a,b,c only work for three inputs, if more or less, it will throw an error"
   ]
  },
  {
   "cell_type": "markdown",
   "metadata": {},
   "source": [
    "-- Reads a single line of input as a string from the user\n",
    "- Splits the string into a list of substrings, using whitespace as the default delimiter.\n",
    "- list comprehension offers a shorter syntax when you want to create a new list based on the values of an existing list"
   ]
  },
  {
   "cell_type": "code",
   "execution_count": 36,
   "metadata": {},
   "outputs": [
    {
     "name": "stdout",
     "output_type": "stream",
     "text": [
      "['apple', 'banana', 'mango']\n"
     ]
    }
   ],
   "source": [
    "fruits = [\"apple\", \"banana\", \"cherry\", \"kiwi\", \"mango\"]\n",
    "newlist = []\n",
    "\n",
    "for x in fruits:\n",
    "  if \"a\" in x:\n",
    "    newlist.append(x)\n",
    "\n",
    "print(newlist)"
   ]
  },
  {
   "cell_type": "code",
   "execution_count": 37,
   "metadata": {},
   "outputs": [
    {
     "name": "stdout",
     "output_type": "stream",
     "text": [
      "['apple', 'banana', 'mango']\n"
     ]
    }
   ],
   "source": [
    "fruits = [\"apple\", \"banana\", \"cherry\", \"kiwi\", \"mango\"]\n",
    "\n",
    "newlist = [x for x in fruits if \"a\" in x]\n",
    "\n",
    "print(newlist)"
   ]
  },
  {
   "cell_type": "code",
   "execution_count": null,
   "metadata": {},
   "outputs": [],
   "source": [
    "a, b, c = map(int, input().split())\n",
    "\n",
    "\n"
   ]
  },
  {
   "cell_type": "code",
   "execution_count": 8,
   "metadata": {},
   "outputs": [
    {
     "name": "stdout",
     "output_type": "stream",
     "text": [
      "[1, 2, 3]\n"
     ]
    }
   ],
   "source": [
    "#usages of map enumerate\n",
    "\n",
    "a = list(map(int, input().split()))# Convert input to a list of integers\n",
    "\n",
    "\n",
    "print(a)"
   ]
  },
  {
   "cell_type": "markdown",
   "metadata": {},
   "source": [
    "Make an iterator that computes the function using arguments from each of the iterables. Stops when the shortest iterable is exhausted.\n"
   ]
  },
  {
   "cell_type": "markdown",
   "metadata": {},
   "source": []
  }
 ],
 "metadata": {
  "kernelspec": {
   "display_name": "Python 3",
   "language": "python",
   "name": "python3"
  },
  "language_info": {
   "codemirror_mode": {
    "name": "ipython",
    "version": 3
   },
   "file_extension": ".py",
   "mimetype": "text/x-python",
   "name": "python",
   "nbconvert_exporter": "python",
   "pygments_lexer": "ipython3",
   "version": "3.11.2"
  }
 },
 "nbformat": 4,
 "nbformat_minor": 2
}
